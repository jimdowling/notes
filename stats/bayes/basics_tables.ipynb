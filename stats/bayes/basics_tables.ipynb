{
 "cells": [
  {
   "cell_type": "raw",
   "metadata": {},
   "source": [
    "---\n",
    "title: \"Basics, Thinking in Tables\"\n",
    "date: 2020-04-27\n",
    "type: technical_note\n",
    "---"
   ]
  },
  {
   "cell_type": "markdown",
   "metadata": {},
   "source": [
    "## Review\n",
    "\n",
    "If your Stats 425 is still kicking around in your head, you might remember Bayes' Theorem. Which generalizes a nice, symmetric property of Conditional Probability\n",
    "\n",
    "$P(A|B)P(B) = P(B|A) P(A)$\n",
    "\n",
    "Into the following\n",
    "\n",
    "$p(H|D) = \\frac{p(H)~p(D|H)}{p(D)}$\n",
    "\n",
    "Where `H` is your Hypothesis and `D` is your Data.\n",
    "\n",
    "### Bowls\n",
    "\n",
    "In a trivial example, we've got two identical bags with colored stones inside.\n",
    "\n",
    "    Bag 1 has 10 white stones and 20 black stones.\n",
    "    Bag 2 has 15 white stones and 15 black stones.\n",
    "\n",
    "    If we picked a bag at random and pulled out a white stone, what's the probability that we selected from Bag 1?\n",
    "\n",
    "The trick to these problems is to swap the values from the story problem into the Bayes' equation:\n",
    "\n",
    "* Our Hypothesis is \"Selected from Bag 1\"\n",
    "* Our Data is \"Drew a white stone\"\n",
    "\n",
    "$p(B1|W) = \\frac{p(B1)~p(W|B1)}{p(W)}$\n",
    "\n",
    "We'll assume either bag is as likely and use the proportion of Bag 1's contents\n",
    "\n",
    "$p(B1|W) = \\frac{(1/2)~(1/3)}{p(W)}$\n",
    "\n",
    "The only trick is figuring out the value of P(W), which can be expressed by blowing out the exhaustive conditional probabilities in the denominator\n",
    "\n",
    "$p(B1|W) = \\frac{(1/2)~(1/3)}{P(W|B1)P(B1) + P(W|B2)P(B2)}$\n",
    "\n",
    "$p(B1|W) = \\frac{(1/2)~(1/3)}{(1/3)(1/2) + (1/2)(1/2)}$\n",
    "\n",
    "Solving, we get\n",
    "\n",
    "$p(B1|W) = 0.4$\n",
    "\n",
    "## Tables\n",
    "\n",
    "As your hypothesis gets more complicated, however, Allen Downey's book Think Bayes introduces structuring the problem via a helpful table to assist with the bookkeeping.\n",
    "\n",
    "### M&M\n",
    "\n",
    "The problem that introduces these tables looks like the following:\n",
    "\n",
    "We've got two bags of M&Ms from two different years, where the color distribution found in each bag was\n",
    "\n",
    "| Bag    | 1994 | 1996 |\n",
    "|--------|------|------|\n",
    "| Blue   |      | .24  |\n",
    "| Brown  | .3   | .13  |\n",
    "| Green  | .1   | .2   |\n",
    "| Orange | .1   | .16  |\n",
    "| Tan    | .1   |      |\n",
    "| Red    | .2   | .13  |\n",
    "| Yellow | .2   | .14  |\n",
    "               \n",
    "               \n",
    "Then, you take an M&M from each bag, and first one is yellow, the second is green.\n",
    "\n",
    "*What is the probability that the yellow M&M came from the 1994 bag?*\n",
    "\n",
    "Equivalently, this also means that *the green M&M also came from the 1996* bag. In lieu of writing out the fraction as above, then deconstructing the denominator into all exhaustive probabilities for selecting yellow from either bag and green from either bag, we'll use the \"Table Method.\"\n",
    "\n",
    "But first, we'll restate the problem in terms of hypotheses.\n",
    "\n",
    "* A: Bag 1 is from 1994, Bag 2 is from 1996\n",
    "* B: Bag 1 is from 1996, Bag 2 is from 1994\n",
    "\n",
    "We take the yellow, green pick as given and construct our table."
   ]
  },
  {
   "cell_type": "code",
   "execution_count": 5,
   "metadata": {
    "scrolled": true
   },
   "outputs": [
    {
     "data": {
      "image/png": "[encoded data removed]",
      "text/plain": [
       "<IPython.core.display.Image object>"
      ]
     },
     "execution_count": 5,
     "metadata": {},
     "output_type": "execute_result"
    }
   ],
   "source": [
    "from IPython.display import Image\n",
    "\n",
    "Image('images/mnm.PNG')"
   ]
  },
  {
   "cell_type": "markdown",
   "metadata": {},
   "source": [
    "* Each bag is equally likely, which explains column `B`\n",
    "* The values in each cell for column `C` are the probability of each draw, given that hypothesis. e.g. Assuming Bag 1 is 1994, we had a `.2` chance to draw yellow and a `.2` chance to draw green from Bag 2, assumed to be from 1996.\n",
    "* Column `D` is just plug and chug\n",
    "* The value of `D3` is the column sum, or that exhaustive probability we didn't want to do by hand above\n",
    "* Finally, column `E` is just dividing `D` through by the column total, which completes the form of the Bayesian Equation and *normalizes* the data."
   ]
  },
  {
   "cell_type": "code",
   "execution_count": null,
   "metadata": {},
   "outputs": [],
   "source": []
  }
 ],
 "metadata": {
  "kernelspec": {
   "display_name": "Python 3",
   "language": "python",
   "name": "python3"
  },
  "language_info": {
   "codemirror_mode": {
    "name": "ipython",
    "version": 3
   },
   "file_extension": ".py",
   "mimetype": "text/x-python",
   "name": "python",
   "nbconvert_exporter": "python",
   "pygments_lexer": "ipython3",
   "version": "3.7.3"
  }
 },
 "nbformat": 4,
 "nbformat_minor": 2
}
