{
 "cells": [
  {
   "cell_type": "raw",
   "metadata": {},
   "source": [
    "---\n",
    "title: \"Odds and LogOdds\"\n",
    "date: 2019-09-13\n",
    "type: technical_note\n",
    "---"
   ]
  },
  {
   "cell_type": "markdown",
   "metadata": {},
   "source": [
    "### Odds"
   ]
  },
  {
   "cell_type": "markdown",
   "metadata": {},
   "source": [
    "The probabilty of an event occuring is a simple ratio of \"instances where it happens\" divided by \"all possibilities\", or\n",
    "\n",
    "$\\frac{ObservedTrue}{AllObservations}$\n",
    "\n",
    "For example, rolling a 1 on a 6-sided die is\n",
    "\n",
    "$\\frac{1}{6} = .166667$\n",
    "\n",
    "By contrast, the *odds* of an event is a flat look at \"instances that it happens\" against \"instances that it doesn't happen\". In our dice example, we'd simply have\n",
    "\n",
    "$1:5$"
   ]
  },
  {
   "cell_type": "markdown",
   "metadata": {},
   "source": [
    "### Odds Ratio"
   ]
  },
  {
   "cell_type": "markdown",
   "metadata": {},
   "source": [
    "Alternatively, we could express the odds of an event as a ratio of"
   ]
  },
  {
   "cell_type": "markdown",
   "metadata": {},
   "source": [
    "$\\frac{Pr(Occurring)}{Pr(NotOccurring)}$"
   ]
  },
  {
   "cell_type": "markdown",
   "metadata": {},
   "source": [
    "This gives us a single number for ease of interpretation-- think `199:301` vs `0.661`"
   ]
  },
  {
   "cell_type": "markdown",
   "metadata": {},
   "source": [
    "### Log Odds"
   ]
  },
  {
   "cell_type": "markdown",
   "metadata": {},
   "source": [
    "However, it should be immediately obvious that interpretation of the scale of the odds ratio leaves something to be desired.\n",
    "\n",
    "For instance, if something happens with `1:6` odds, the odds ratio is `.166`. Conversely, if we were looking at `6:1` odds, the odds ratio would be `6.0`.\n",
    "\n",
    "Indeed, if something is *more* likely to happen, the odds ratio will be some value between 1 and infinity. On the other hand, if it's *less* likely, it will simply be bounded between 0 and 1.\n",
    "\n",
    "This is where the `log` function proves to be particularly useful, as it gives a symmetric interpretation of two numbers in odds, symmetric around 0.\n",
    "\n",
    "Taking the `log` of the above, we've got:\n",
    "\n",
    "`1:6` -> `0.166` -> `log(0.166)` -> `-0.77`\n",
    "\n",
    "`6:1` -> `6.0` -> `log(6.0)` -> `0.77`"
   ]
  },
  {
   "cell_type": "markdown",
   "metadata": {},
   "source": [
    "### Log Odds and Logistic Regression"
   ]
  },
  {
   "cell_type": "markdown",
   "metadata": {},
   "source": [
    "Another useful application of the log odds is in expressing the effect of one unit change in a variable.\n",
    "\n",
    "Because the logit function has a non-linear shape"
   ]
  },
  {
   "cell_type": "code",
   "execution_count": 1,
   "metadata": {},
   "outputs": [
    {
     "name": "stdout",
     "output_type": "stream",
     "text": [
      "Populating the interactive namespace from numpy and matplotlib\n"
     ]
    },
    {
     "data": {
      "image/png": "[encoded data removed]",
      "text/plain": [
       "<Figure size 432x288 with 1 Axes>"
      ]
     },
     "metadata": {
      "needs_background": "light"
     },
     "output_type": "display_data"
    }
   ],
   "source": [
    "%pylab inline\n",
    "\n",
    "X = np.linspace(-3, 3, 100)\n",
    "y = 1 / (1 + np.exp(-X))\n",
    "\n",
    "plt.plot(X, y);"
   ]
  },
  {
   "cell_type": "markdown",
   "metadata": {},
   "source": [
    "one step in the `X` direction will yield a variable change in `y`, depending on where you started.\n",
    "\n",
    "[This short video](https://www.youtube.com/watch?v=fJ53tIDbvTM) does a great job running through the math of it, but the log odds can be expressed linearly, with resepect to `X`, as\n",
    "\n",
    "$\\ln(\\frac{p}{1-p}) = \\beta_0 + \\beta_1 X$"
   ]
  },
  {
   "cell_type": "markdown",
   "metadata": {},
   "source": [
    "Exponentiating both sides, we can see that a unit increse in `X` is equivalent to multiplying the odds by `exp(beta1)`\n",
    "\n",
    "$\\frac{Pr(happening)}{Pr(notHappening)} = \\frac{p}{1-p} = e^{\\beta_0 + \\beta_1 X}$"
   ]
  }
 ],
 "metadata": {
  "kernelspec": {
   "display_name": "Python 3",
   "language": "python",
   "name": "python3"
  },
  "language_info": {
   "codemirror_mode": {
    "name": "ipython",
    "version": 3
   },
   "file_extension": ".py",
   "mimetype": "text/x-python",
   "name": "python",
   "nbconvert_exporter": "python",
   "pygments_lexer": "ipython3",
   "version": "3.7.3"
  }
 },
 "nbformat": 4,
 "nbformat_minor": 2
}
