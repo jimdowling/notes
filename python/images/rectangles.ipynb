{
 "cells": [
  {
   "cell_type": "raw",
   "metadata": {},
   "source": [
    "---\n",
    "title: \"Drawing Simple Rectangles in PIL\"\n",
    "date: 2019-07-10\n",
    "type: technical_note\n",
    "---"
   ]
  },
  {
   "cell_type": "markdown",
   "metadata": {},
   "source": [
    "## Quick Color Checks"
   ]
  },
  {
   "cell_type": "markdown",
   "metadata": {},
   "source": [
    "When I found myself doing analysis on color using `numpy`, I kept getting turned around and having trouble conceptualizing the color representation for the R, G, B values I was seeing.\n",
    "\n",
    "`PIL` makes this really easy to do. All you have to do is call `Image.new()` and specify the `color` parameter accordingly."
   ]
  },
  {
   "cell_type": "code",
   "execution_count": 1,
   "metadata": {},
   "outputs": [
    {
     "data": {
      "image/png": "[encoded data removed]",
      "text/plain": [
       "<PIL.Image.Image image mode=RGB size=200x200 at 0x1C406B5BC18>"
      ]
     },
     "execution_count": 1,
     "metadata": {},
     "output_type": "execute_result"
    }
   ],
   "source": [
    "from PIL import Image\n",
    "\n",
    "rect = Image.new(mode='RGB', size=(200, 200),\n",
    "                 color=(0, 74, 127))\n",
    "rect"
   ]
  },
  {
   "cell_type": "markdown",
   "metadata": {},
   "source": [
    "## Layering in More Colors"
   ]
  },
  {
   "cell_type": "markdown",
   "metadata": {},
   "source": [
    "If we wanted to look at more colors than one at a time, we could probably leverage some `matplotlib` \"span\" method, or use the built-in tools that `PIL` provides.\n",
    "\n",
    "Specifically, we'll leverage the `ImageDraw.Draw` object, which takes an existing `Image` object."
   ]
  },
  {
   "cell_type": "code",
   "execution_count": 2,
   "metadata": {},
   "outputs": [],
   "source": [
    "from PIL import ImageDraw"
   ]
  },
  {
   "cell_type": "code",
   "execution_count": 3,
   "metadata": {},
   "outputs": [],
   "source": [
    "drawer = ImageDraw.Draw(rect)"
   ]
  },
  {
   "cell_type": "markdown",
   "metadata": {},
   "source": [
    "Which gives us access to a ton of simple drawing utillities."
   ]
  },
  {
   "cell_type": "code",
   "execution_count": 4,
   "metadata": {},
   "outputs": [
    {
     "name": "stdout",
     "output_type": "stream",
     "text": [
      "['arc', 'bitmap', 'chord', 'draw', 'ellipse', 'fill', 'font', 'fontmode', 'getfont', 'im', 'ink', 'line', 'mode', 'multiline_text', 'multiline_textsize', 'palette', 'pieslice', 'point', 'polygon', 'rectangle', 'shape', 'text', 'textsize']\n"
     ]
    }
   ],
   "source": [
    "print([x for x in dir(drawer) if x[0] != '_'])"
   ]
  },
  {
   "cell_type": "markdown",
   "metadata": {},
   "source": [
    "Note how we leverage the `rectangle()` method below."
   ]
  },
  {
   "cell_type": "code",
   "execution_count": 5,
   "metadata": {},
   "outputs": [],
   "source": [
    "def draw_rectangle(color_list):\n",
    "    '''\n",
    "    Make a long rectangle, composed of the colors\n",
    "    detailed in color_list, a list of (R, G, B) tuples\n",
    "    '''\n",
    "    n = len(color_list)\n",
    "\n",
    "    im = Image.new('RGBA', (100*n, 100))\n",
    "    draw = ImageDraw.Draw(im)\n",
    "\n",
    "    for idx, color in enumerate(color_list):\n",
    "        # ensure that numbers are all ints\n",
    "        color = tuple([int(x) for x in color])\n",
    "        \n",
    "        # draw the colors by array-indexing\n",
    "        draw.rectangle([(100*idx, 0), (100*(idx+1), 100*(idx+1))],\n",
    "                       fill=tuple(color))\n",
    "\n",
    "    return im"
   ]
  },
  {
   "cell_type": "code",
   "execution_count": 6,
   "metadata": {},
   "outputs": [
    {
     "data": {
      "image/png": "[encoded data removed]",
      "text/plain": [
       "<PIL.Image.Image image mode=RGBA size=300x100 at 0x1C406C8E320>"
      ]
     },
     "execution_count": 6,
     "metadata": {},
     "output_type": "execute_result"
    }
   ],
   "source": [
    "neapolitan = ([161, 91, 65],\n",
    "              [252, 192, 181],\n",
    "              [251, 233, 209])\n",
    "\n",
    "draw_rectangle(neapolitan)"
   ]
  }
 ],
 "metadata": {
  "kernelspec": {
   "display_name": "Python 3",
   "language": "python",
   "name": "python3"
  },
  "language_info": {
   "codemirror_mode": {
    "name": "ipython",
    "version": 3
   },
   "file_extension": ".py",
   "mimetype": "text/x-python",
   "name": "python",
   "nbconvert_exporter": "python",
   "pygments_lexer": "ipython3",
   "version": "3.7.3"
  }
 },
 "nbformat": 4,
 "nbformat_minor": 2
}
