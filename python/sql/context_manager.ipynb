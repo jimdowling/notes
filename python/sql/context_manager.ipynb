{
 "cells": [
  {
   "cell_type": "raw",
   "metadata": {},
   "source": [
    "---\n",
    "title: \"A Useful Context Manager\"\n",
    "date: 2020-06-08\n",
    "type: technical_note\n",
    "---"
   ]
  },
  {
   "cell_type": "markdown",
   "metadata": {},
   "source": [
    "Found all over the Python ecosystem, \"Context Managers\" are the `with something as var:` you might use for, say, file I/O:"
   ]
  },
  {
   "cell_type": "code",
   "execution_count": 1,
   "metadata": {},
   "outputs": [],
   "source": [
    "with open('test.txt', 'w') as f:\n",
    "    pass"
   ]
  },
  {
   "cell_type": "markdown",
   "metadata": {},
   "source": [
    "Essentially, this has the behavior of:\n",
    "\n",
    "- Entering a context and executing some code (here, opening `test.txt` in write mode)\n",
    "- Doing some stuff (just `pass`ing here)\n",
    "- Doing cleanup/shutdown behavior (closing the file)\n",
    "\n",
    "\n",
    "This is similar to how we interact with SQL code, insofar as we:\n",
    "\n",
    "- Connect to a database\n",
    "- Make some modifications\n",
    "- Commit our changes\n",
    "- Close our connection\n",
    "\n",
    "Thus, using the `contextlib` library, we can hook into this syntax to good use, with the following:"
   ]
  },
  {
   "cell_type": "code",
   "execution_count": 2,
   "metadata": {},
   "outputs": [],
   "source": [
    "import sqlite3\n",
    "from contextlib import contextmanager\n",
    "\n",
    "@contextmanager\n",
    "def connect_to_db(database):\n",
    "    path = '.'\n",
    "    conn = sqlite3.connect(path+database)\n",
    "    cur = conn.cursor()\n",
    "    yield cur\n",
    "    conn.commit()\n",
    "    conn.close()"
   ]
  },
  {
   "cell_type": "markdown",
   "metadata": {},
   "source": [
    "Now, all we need to do is call this function and supply a `.db` database file.\n",
    "\n",
    "Here, we'll select from a table that doesn't exist yet"
   ]
  },
  {
   "cell_type": "code",
   "execution_count": 3,
   "metadata": {},
   "outputs": [
    {
     "name": "stdout",
     "output_type": "stream",
     "text": [
      "no such table: new_table\n"
     ]
    }
   ],
   "source": [
    "try:\n",
    "    with connect_to_db('test.db') as cursor:\n",
    "        cursor.execute('select * from new_table')\n",
    "        cursor.fetchone()\n",
    "except Exception as e:\n",
    "    print(e)"
   ]
  },
  {
   "cell_type": "markdown",
   "metadata": {},
   "source": [
    "Then we'll make the database and insert a record into it"
   ]
  },
  {
   "cell_type": "code",
   "execution_count": 4,
   "metadata": {},
   "outputs": [],
   "source": [
    "with connect_to_db('test.db') as cursor:\n",
    "    cursor.execute('create table new_table (id integer)')\n",
    "    cursor.execute('insert into new_table (id) values (1)')"
   ]
  },
  {
   "cell_type": "markdown",
   "metadata": {},
   "source": [
    "Finally, we rerun the code that works this time"
   ]
  },
  {
   "cell_type": "code",
   "execution_count": 5,
   "metadata": {},
   "outputs": [
    {
     "name": "stdout",
     "output_type": "stream",
     "text": [
      "(1,)\n"
     ]
    }
   ],
   "source": [
    "try:\n",
    "    with connect_to_db('test.db') as cursor:\n",
    "        cursor.execute('select * from new_table')\n",
    "        print(cursor.fetchone())\n",
    "except Exception as e:\n",
    "    print(e)"
   ]
  }
 ],
 "metadata": {
  "kernelspec": {
   "display_name": "Python 3",
   "language": "python",
   "name": "python3"
  },
  "language_info": {
   "codemirror_mode": {
    "name": "ipython",
    "version": 3
   },
   "file_extension": ".py",
   "mimetype": "text/x-python",
   "name": "python",
   "nbconvert_exporter": "python",
   "pygments_lexer": "ipython3",
   "version": "3.7.6"
  }
 },
 "nbformat": 4,
 "nbformat_minor": 4
}
