{
 "cells": [
  {
   "cell_type": "raw",
   "metadata": {},
   "source": [
    "---\n",
    "title: \"Joint primary keys\"\n",
    "date: 2020-06-08\n",
    "type: technical_note\n",
    "---"
   ]
  },
  {
   "cell_type": "markdown",
   "metadata": {},
   "source": [
    "Occasionally, we'll find ourselves building bridge tables that map many to many observations. For instance, we might have a table of Students and a table of Classes. Students can take multiple classes and likewise, classes can enroll multiple students.\n",
    "\n",
    "Thus, we'll want to create a table of records that maps all unique `(student_id, class_id)` pairs. Empahsis on unique.\n",
    "\n",
    "We might do that like so"
   ]
  },
  {
   "cell_type": "code",
   "execution_count": 1,
   "metadata": {},
   "outputs": [],
   "source": [
    "from utils import connect_to_db\n",
    "\n",
    "with connect_to_db('classes.db') as cursor:\n",
    "    cursor.execute('drop table if exists enrollments')\n",
    "    cursor.execute('''create table enrollments (\n",
    "                      student_id INTEGER,\n",
    "                      class_id INTEGER,\n",
    "                      PRIMARY KEY (student_id, class_id)\n",
    "                  )''')"
   ]
  },
  {
   "cell_type": "markdown",
   "metadata": {},
   "source": [
    "and then dump a bunch of records into the table"
   ]
  },
  {
   "cell_type": "code",
   "execution_count": 2,
   "metadata": {},
   "outputs": [],
   "source": [
    "with connect_to_db('classes.db') as cursor:\n",
    "    cursor.execute('insert into enrollments values (1, 1)')\n",
    "    cursor.execute('insert into enrollments values (1, 2)')\n",
    "    cursor.execute('insert into enrollments values (1, 3)')\n",
    "    cursor.execute('insert into enrollments values (2, 1)')\n",
    "    cursor.execute('insert into enrollments values (2, 2)')\n",
    "    cursor.execute('insert into enrollments values (2, 4)')"
   ]
  },
  {
   "cell_type": "markdown",
   "metadata": {},
   "source": [
    "and this has the intended effect of barring duplicate entries"
   ]
  },
  {
   "cell_type": "code",
   "execution_count": 3,
   "metadata": {},
   "outputs": [
    {
     "name": "stdout",
     "output_type": "stream",
     "text": [
      "UNIQUE constraint failed: enrollments.student_id, enrollments.class_id\n"
     ]
    }
   ],
   "source": [
    "try:\n",
    "    with connect_to_db('classes.db') as cursor:\n",
    "        cursor.execute('insert into enrollments values (1, 1)')\n",
    "except Exception as e:\n",
    "    print(e)"
   ]
  },
  {
   "cell_type": "markdown",
   "metadata": {},
   "source": [
    "However, selecting, we can see that the table only has two columns"
   ]
  },
  {
   "cell_type": "code",
   "execution_count": 4,
   "metadata": {},
   "outputs": [
    {
     "name": "stdout",
     "output_type": "stream",
     "text": [
      "[(1, 1), (1, 2), (1, 3), (2, 1), (2, 2), (2, 4)]\n"
     ]
    }
   ],
   "source": [
    "with connect_to_db('classes.db') as cursor:\n",
    "    cursor.execute('select * from enrollments')\n",
    "    print(cursor.fetchall())"
   ]
  },
  {
   "cell_type": "markdown",
   "metadata": {},
   "source": [
    "It's not hard to imagine wanting to join another table against this table on a student/course level-- maybe for grades. In that case, we'll want to join against one simple column on a primary key, not on two columns.\n",
    "\n",
    "Thus, the preferred syntax here might be"
   ]
  },
  {
   "cell_type": "code",
   "execution_count": 5,
   "metadata": {},
   "outputs": [],
   "source": [
    "with connect_to_db('classes.db') as cursor:\n",
    "    cursor.execute('drop table if exists enrollments')\n",
    "    cursor.execute('''create table enrollments (\n",
    "                      id INTEGER PRIMARY KEY AUTOINCREMENT,\n",
    "                      student_id INTEGER,\n",
    "                      class_id INTEGER,\n",
    "                      UNIQUE (student_id, class_id)\n",
    "                  )''')"
   ]
  },
  {
   "cell_type": "markdown",
   "metadata": {},
   "source": [
    "We need to be a little more deliberate about our insert statements"
   ]
  },
  {
   "cell_type": "code",
   "execution_count": 6,
   "metadata": {},
   "outputs": [],
   "source": [
    "with connect_to_db('classes.db') as cursor:\n",
    "    cursor.execute('insert into enrollments (student_id, class_id) values (1, 1)')\n",
    "    cursor.execute('insert into enrollments (student_id, class_id) values (1, 2)')\n",
    "    cursor.execute('insert into enrollments (student_id, class_id) values (1, 3)')\n",
    "    cursor.execute('insert into enrollments (student_id, class_id) values (2, 1)')\n",
    "    cursor.execute('insert into enrollments (student_id, class_id) values (2, 2)')\n",
    "    cursor.execute('insert into enrollments (student_id, class_id) values (2, 4)')"
   ]
  },
  {
   "cell_type": "markdown",
   "metadata": {},
   "source": [
    "But we get a nice, clean primary key in the left-most column"
   ]
  },
  {
   "cell_type": "code",
   "execution_count": 7,
   "metadata": {},
   "outputs": [
    {
     "name": "stdout",
     "output_type": "stream",
     "text": [
      "[(1, 1, 1), (2, 1, 2), (3, 1, 3), (4, 2, 1), (5, 2, 2), (6, 2, 4)]\n"
     ]
    }
   ],
   "source": [
    "with connect_to_db('classes.db') as cursor:\n",
    "    cursor.execute('select * from enrollments')\n",
    "    print(cursor.fetchall())"
   ]
  },
  {
   "cell_type": "code",
   "execution_count": 8,
   "metadata": {},
   "outputs": [],
   "source": [
    "!rm classes.db"
   ]
  }
 ],
 "metadata": {
  "kernelspec": {
   "display_name": "Python 3",
   "language": "python",
   "name": "python3"
  },
  "language_info": {
   "codemirror_mode": {
    "name": "ipython",
    "version": 3
   },
   "file_extension": ".py",
   "mimetype": "text/x-python",
   "name": "python",
   "nbconvert_exporter": "python",
   "pygments_lexer": "ipython3",
   "version": "3.7.6"
  }
 },
 "nbformat": 4,
 "nbformat_minor": 4
}
