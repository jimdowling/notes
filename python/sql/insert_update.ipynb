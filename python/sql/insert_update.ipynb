{
 "cells": [
  {
   "cell_type": "raw",
   "metadata": {},
   "source": [
    "---\n",
    "title: \"Intelligently inserting or updating records\"\n",
    "date: 2020-06-08\n",
    "type: technical_note\n",
    "---"
   ]
  },
  {
   "cell_type": "markdown",
   "metadata": {},
   "source": [
    "Imagine a scenario where you've got game backed by a simple database of names and scores"
   ]
  },
  {
   "cell_type": "code",
   "execution_count": 1,
   "metadata": {},
   "outputs": [],
   "source": [
    "from utils import connect_to_db\n",
    "\n",
    "with connect_to_db('test.db') as cursor:\n",
    "    cursor.execute('''drop table if exists records''')\n",
    "    cursor.execute('''\n",
    "        create table records (\n",
    "            id INTEGER PRIMARY KEY AUTOINCREMENT,\n",
    "            name TEXT,\n",
    "            value INTEGER\n",
    "        )\n",
    "        '''\n",
    "    )"
   ]
  },
  {
   "cell_type": "markdown",
   "metadata": {},
   "source": [
    "And on the first day, Nick has 1, Ben has 2, and Adam has 3"
   ]
  },
  {
   "cell_type": "code",
   "execution_count": 2,
   "metadata": {},
   "outputs": [],
   "source": [
    "with connect_to_db('test.db') as cursor:\n",
    "    cursor.execute('''insert into records (name, value) values ('Nick', 1)''')\n",
    "    cursor.execute('''insert into records (name, value) values ('Ben', 2)''')\n",
    "    cursor.execute('''insert into records (name, value) values ('Adam', 3)''')"
   ]
  },
  {
   "cell_type": "code",
   "execution_count": 3,
   "metadata": {},
   "outputs": [],
   "source": [
    "with connect_to_db('test.db') as cursor:\n",
    "    cursor.execute('select * from records')\n",
    "    print(cursor.fetchall())"
   ]
  },
  {
   "cell_type": "markdown",
   "metadata": {},
   "source": [
    "Going forward, we want to write a function that will take a tuple of `Name, Score` and either:\n",
    "\n",
    "* Update an existing record with the score\n",
    "* Make a new record if it doesn't exist\n",
    "\n",
    "And so the trick is to do a quick name lookup before trying to write anything, like so:"
   ]
  },
  {
   "cell_type": "code",
   "execution_count": 4,
   "metadata": {},
   "outputs": [],
   "source": [
    "def process_record(name, score):\n",
    "    with connect_to_db('test.db') as cursor:\n",
    "        cursor.execute('select * from records where name= (?)', (name,))\n",
    "        row = cursor.fetchone()\n",
    "        \n",
    "        if row:\n",
    "            cursor.execute('''UPDATE records\n",
    "                              SET value=(?)\n",
    "                              WHERE name=(?)''',\n",
    "                           (score, name))\n",
    "        else:\n",
    "            cursor.execute('''INSERT INTO records (name, value)\n",
    "                              VALUES (?, ?)''', (name, score))"
   ]
  },
  {
   "cell_type": "markdown",
   "metadata": {},
   "source": [
    "Thus, we can process records for multiple days worth of games"
   ]
  },
  {
   "cell_type": "code",
   "execution_count": 5,
   "metadata": {},
   "outputs": [],
   "source": [
    "process_record('Nick', 3)\n",
    "process_record('Adam', 4)\n",
    "process_record('Ben', 5)\n",
    "process_record('PJ', 10)\n",
    "process_record('Adam', 11)"
   ]
  },
  {
   "cell_type": "markdown",
   "metadata": {},
   "source": [
    "And see that Nick, Adam, and Ben all have updated records, as well as the the introduction of PJ to the game."
   ]
  },
  {
   "cell_type": "code",
   "execution_count": 6,
   "metadata": {},
   "outputs": [],
   "source": [
    "with connect_to_db('test.db') as cursor:\n",
    "    cursor.execute('select * from records')\n",
    "    print(cursor.fetchall())"
   ]
  }
 ],
 "metadata": {
  "kernelspec": {
   "display_name": "Python 3",
   "language": "python",
   "name": "python3"
  },
  "language_info": {
   "codemirror_mode": {
    "name": "ipython",
    "version": 3
   },
   "file_extension": ".py",
   "mimetype": "text/x-python",
   "name": "python",
   "nbconvert_exporter": "python",
   "pygments_lexer": "ipython3",
   "version": "3.7.6"
  }
 },
 "nbformat": 4,
 "nbformat_minor": 4
}
