{
 "cells": [
  {
   "cell_type": "raw",
   "metadata": {},
   "source": [
    "---\n",
    "title: \"LRU Caching\"\n",
    "date: 2020-10-21\n",
    "type: technical_note\n",
    "---"
   ]
  },
  {
   "cell_type": "markdown",
   "metadata": {},
   "source": [
    "Caching is an invaluable tool for lowering the stress of repeated computes on your expensive functions, if you anticipate calling it with a relatively-narrow set of arguments. I read about it in the context of `model.predict()` calls, but wanted to lean on a more canonical example to show the how performance compares, caching vs non. The code is lifted and altered from the `functools.lru_cache()` [documentation](https://docs.python.org/3.3/library/functools.html#functools.lru_cache).\n",
    "\n",
    "## By Example\n",
    "\n",
    "Below, I've got two identical implementations for recursively serving up Fibonacci numbers-- the only difference being that one of them counts the number of times the function is called, and the other caches the results its seen for later use."
   ]
  },
  {
   "cell_type": "code",
   "execution_count": 1,
   "metadata": {},
   "outputs": [],
   "source": [
    "from functools import lru_cache\n",
    "\n",
    "@lru_cache(maxsize=64)\n",
    "def fib(n):\n",
    "    if n < 2:\n",
    "        return n\n",
    "    else:\n",
    "        return fib(n-1) + fib(n-2)"
   ]
  },
  {
   "cell_type": "code",
   "execution_count": 2,
   "metadata": {},
   "outputs": [],
   "source": [
    "fib_call_count = 0\n",
    "\n",
    "def fib_no_cache(n):\n",
    "    global fib_call_count\n",
    "    fib_call_count += 1\n",
    "    \n",
    "    if n < 2:\n",
    "        return n\n",
    "    else:\n",
    "        return fib_no_cache(n-1) + fib_no_cache(n-2)"
   ]
  },
  {
   "cell_type": "markdown",
   "metadata": {},
   "source": [
    "### Speed"
   ]
  },
  {
   "cell_type": "markdown",
   "metadata": {},
   "source": [
    "Without caching, `fib(20)` runs on the order of milliseconds"
   ]
  },
  {
   "cell_type": "code",
   "execution_count": 3,
   "metadata": {},
   "outputs": [
    {
     "name": "stdout",
     "output_type": "stream",
     "text": [
      "2.91 ms ± 51.3 µs per loop (mean ± std. dev. of 7 runs, 100 loops each)\n"
     ]
    }
   ],
   "source": [
    "%%timeit\n",
    "\n",
    "fib_no_cache(20)"
   ]
  },
  {
   "cell_type": "markdown",
   "metadata": {},
   "source": [
    "With caching, it's measured instead in *nanoseconds*, which several orders of magnitude faster (10^-3) vs (10^-9)"
   ]
  },
  {
   "cell_type": "code",
   "execution_count": 4,
   "metadata": {},
   "outputs": [
    {
     "name": "stdout",
     "output_type": "stream",
     "text": [
      "56.5 ns ± 0.677 ns per loop (mean ± std. dev. of 7 runs, 10000000 loops each)\n"
     ]
    }
   ],
   "source": [
    "%%timeit\n",
    "\n",
    "fib(20)"
   ]
  },
  {
   "cell_type": "markdown",
   "metadata": {},
   "source": [
    "This alone is probably endorsement enough to use `@lru_cache()` where applicable.\n",
    "\n",
    "### Call Efficiency\n",
    "\n",
    "We can get a good understanding of the increase in efficiency by inspecting some of the utilities `functools` gives us.\n",
    "\n",
    "On its own, a user-defined function doesn't come with anything attached to it, besides a host of `__dunder__` methods."
   ]
  },
  {
   "cell_type": "code",
   "execution_count": 5,
   "metadata": {},
   "outputs": [
    {
     "data": {
      "text/plain": [
       "[]"
      ]
     },
     "execution_count": 5,
     "metadata": {},
     "output_type": "execute_result"
    }
   ],
   "source": [
    "def blank_function():\n",
    "    pass\n",
    "\n",
    "[x for x in blank_function.__dir__() if x.find('__') == -1]"
   ]
  },
  {
   "cell_type": "markdown",
   "metadata": {},
   "source": [
    "On the other hand, we can see that functions implemented under the `@functools.lru_cache()` decorator, get attached with a couple functions to interface with the cache."
   ]
  },
  {
   "cell_type": "code",
   "execution_count": 6,
   "metadata": {},
   "outputs": [
    {
     "data": {
      "text/plain": [
       "['cache_info', 'cache_clear']"
      ]
     },
     "execution_count": 6,
     "metadata": {},
     "output_type": "execute_result"
    }
   ],
   "source": [
    "[x for x in fib.__dir__() if x.find('__') == -1]"
   ]
  },
  {
   "cell_type": "markdown",
   "metadata": {},
   "source": [
    "In practice, we can use this function to inspect how much work is going on under the hood.\n",
    "\n",
    "At start, the `namedtuple` shows that:\n",
    "\n",
    "* `hits=0`: The cache hasn't provided a shortcut yet\n",
    "* `misses=0`: Nothing has been cached yet\n",
    "* `maxsize=64`: The number of values that will be cached\n",
    "* `currsize=0`: Similar to `misses`, this is how many values have been cached.\n",
    "\n",
    "The key difference here is that `currsize` will only ever get as big as `maxsize`. At that point, it will drop the *oldest* cached call to `fib()`, as implied by the **L**ast **R**ecently **U**sed in `lru_cache()`."
   ]
  },
  {
   "cell_type": "code",
   "execution_count": 7,
   "metadata": {},
   "outputs": [
    {
     "name": "stdout",
     "output_type": "stream",
     "text": [
      "CacheInfo(hits=0, misses=0, maxsize=64, currsize=0)\n"
     ]
    }
   ],
   "source": [
    "fib.cache_clear()\n",
    "\n",
    "print(fib.cache_info())"
   ]
  },
  {
   "cell_type": "markdown",
   "metadata": {},
   "source": [
    "Then, if we call our cached Fibonacci sequence, we can inspect how it's leveraging its cache."
   ]
  },
  {
   "cell_type": "code",
   "execution_count": 8,
   "metadata": {},
   "outputs": [
    {
     "name": "stdout",
     "output_type": "stream",
     "text": [
      "Fib(0) = 0\n",
      "CacheInfo(hits=0, misses=1, maxsize=64, currsize=1) \n",
      "\n",
      "Fib(1) = 1\n",
      "CacheInfo(hits=0, misses=2, maxsize=64, currsize=2) \n",
      "\n",
      "Fib(2) = 1\n",
      "CacheInfo(hits=2, misses=3, maxsize=64, currsize=3) \n",
      "\n",
      "Fib(3) = 2\n",
      "CacheInfo(hits=4, misses=4, maxsize=64, currsize=4) \n",
      "\n",
      "Fib(4) = 3\n",
      "CacheInfo(hits=6, misses=5, maxsize=64, currsize=5) \n",
      "\n"
     ]
    }
   ],
   "source": [
    "for i in range(5):\n",
    "    print(f\"Fib({i}) =\", fib(i))\n",
    "    print(fib.cache_info(), '\\n')"
   ]
  },
  {
   "cell_type": "markdown",
   "metadata": {},
   "source": [
    "Pausing here to remark on what we're seeing.\n",
    "\n",
    "The first `print` statement is self-explanitory, but look what's happening when we print out successive `fib.cache_info()`s:\n",
    "\n",
    "* Every time we call `fib()` with a value not yet seen, `misses` gets incremented by 1.\n",
    "* Because of the recursive nature of the algorithm, every time we get a new value for `n`, we get *two* new increments in `hits` (Look at the function defintion. `fib(4)` calls `fib(3)` and `fib(2)`. But because we *cached* these results, they're simply returned-- we don't then go on to perform *their* recursive calls.)\n",
    "\n",
    "Moving on..."
   ]
  },
  {
   "cell_type": "code",
   "execution_count": 9,
   "metadata": {},
   "outputs": [
    {
     "name": "stdout",
     "output_type": "stream",
     "text": [
      "8\n",
      "CacheInfo(hits=9, misses=7, maxsize=64, currsize=7)\n"
     ]
    }
   ],
   "source": [
    "print(fib(6))\n",
    "print(fib.cache_info())"
   ]
  },
  {
   "cell_type": "code",
   "execution_count": 10,
   "metadata": {},
   "outputs": [
    {
     "name": "stdout",
     "output_type": "stream",
     "text": [
      "13\n",
      "CacheInfo(hits=11, misses=8, maxsize=64, currsize=8)\n"
     ]
    }
   ],
   "source": [
    "print(fib(7))\n",
    "print(fib.cache_info())"
   ]
  },
  {
   "cell_type": "markdown",
   "metadata": {},
   "source": [
    "You get the idea.\n",
    "\n",
    "### At Scale\n",
    "\n",
    "Finally, I want to show what happens when we take multiple, successive values of `fib()`"
   ]
  },
  {
   "cell_type": "code",
   "execution_count": 11,
   "metadata": {},
   "outputs": [
    {
     "name": "stdout",
     "output_type": "stream",
     "text": [
      "Populating the interactive namespace from numpy and matplotlib\n"
     ]
    }
   ],
   "source": [
    "%pylab inline\n",
    "\n",
    "fib.cache_clear()\n",
    "\n",
    "operations = []\n",
    "\n",
    "for i in range(200):\n",
    "    fib(i)\n",
    "    hits, misses = fib.cache_info()[:2]\n",
    "    operations.append((hits, misses, hits+misses))\n",
    "\n",
    "operations = np.array(operations)"
   ]
  },
  {
   "cell_type": "markdown",
   "metadata": {},
   "source": [
    "In the cached case, the growth is steady and linear going from 0 to 200."
   ]
  },
  {
   "cell_type": "code",
   "execution_count": 12,
   "metadata": {},
   "outputs": [
    {
     "data": {
      "image/png": "[encoded data removed]",
      "text/plain": [
       "<Figure size 432x288 with 1 Axes>"
      ]
     },
     "metadata": {
      "needs_background": "light"
     },
     "output_type": "display_data"
    }
   ],
   "source": [
    "fig, ax = plt.subplots()\n",
    "\n",
    "len_x = len(operations)\n",
    "ax.plot(range(len_x), operations[:, 2], label='All')\n",
    "ax.plot(range(len_x), operations[:, 0], label='Hits')\n",
    "ax.plot(range(len_x), operations[:, 1], label='Misses')\n",
    "ax.legend();"
   ]
  },
  {
   "cell_type": "markdown",
   "metadata": {},
   "source": [
    "By the time we've called `fib(200)`, we've done 596 operations-- 200 new runs and 396 cache lookups."
   ]
  },
  {
   "cell_type": "code",
   "execution_count": 13,
   "metadata": {},
   "outputs": [
    {
     "data": {
      "text/plain": [
       "array([396, 200, 596])"
      ]
     },
     "execution_count": 13,
     "metadata": {},
     "output_type": "execute_result"
    }
   ],
   "source": [
    "operations[-1]"
   ]
  },
  {
   "cell_type": "markdown",
   "metadata": {},
   "source": [
    "Compare that to the non-cached case, **ran on 10% of the records**. World of difference."
   ]
  },
  {
   "cell_type": "code",
   "execution_count": 14,
   "metadata": {},
   "outputs": [
    {
     "name": "stdout",
     "output_type": "stream",
     "text": [
      "35400\n"
     ]
    }
   ],
   "source": [
    "fib_call_count = 0\n",
    "\n",
    "fib_call_counts = []\n",
    "\n",
    "for i in range(20):\n",
    "    fib_no_cache(i)\n",
    "    fib_call_counts.append(fib_call_count)\n",
    "    \n",
    "print(fib_call_count)"
   ]
  },
  {
   "cell_type": "markdown",
   "metadata": {},
   "source": [
    "Sixty times as many operations, on 10% of the top-level calls."
   ]
  },
  {
   "cell_type": "code",
   "execution_count": 15,
   "metadata": {},
   "outputs": [
    {
     "data": {
      "text/plain": [
       "59.395973154362416"
      ]
     },
     "execution_count": 15,
     "metadata": {},
     "output_type": "execute_result"
    }
   ],
   "source": [
    "fib_call_count / operations[-1, -1]"
   ]
  },
  {
   "cell_type": "code",
   "execution_count": 16,
   "metadata": {},
   "outputs": [
    {
     "data": {
      "image/png": "[encoded data removed]",
      "text/plain": [
       "<Figure size 432x288 with 1 Axes>"
      ]
     },
     "metadata": {
      "needs_background": "light"
     },
     "output_type": "display_data"
    }
   ],
   "source": [
    "fig, ax = plt.subplots()\n",
    "\n",
    "len_x = len(fib_call_counts)\n",
    "ax.plot(range(len_x), fib_call_counts);"
   ]
  },
  {
   "cell_type": "markdown",
   "metadata": {},
   "source": [
    "### In the wild\n",
    "\n",
    "Now, suppose that we've got some application that randomly calls fib, per a uniform distribution between 1 and 10. And over the course of a day, it gets called 10 thousand times."
   ]
  },
  {
   "cell_type": "code",
   "execution_count": 17,
   "metadata": {},
   "outputs": [],
   "source": [
    "np.random.seed(0)\n",
    "ten_k_calls = np.random.randint(1, 10, size=10000)"
   ]
  },
  {
   "cell_type": "markdown",
   "metadata": {},
   "source": [
    "Then, comparing the relative operations between the cached and non-cached implementations, we have"
   ]
  },
  {
   "cell_type": "code",
   "execution_count": 18,
   "metadata": {},
   "outputs": [],
   "source": [
    "fib_call_count = 0\n",
    "fib.cache_clear()\n",
    "\n",
    "cache = []\n",
    "no_cache = []\n",
    "for call in ten_k_calls:\n",
    "    fib(call)\n",
    "    fib_no_cache(call)\n",
    "    \n",
    "    hits, misses = fib.cache_info()[:2]\n",
    "    cache.append(hits + misses)\n",
    "    no_cache.append(fib_call_count)"
   ]
  },
  {
   "cell_type": "markdown",
   "metadata": {},
   "source": [
    "Which leads to an enormous difference."
   ]
  },
  {
   "cell_type": "code",
   "execution_count": 19,
   "metadata": {},
   "outputs": [
    {
     "data": {
      "image/png": "[encoded data removed]",
      "text/plain": [
       "<Figure size 432x288 with 1 Axes>"
      ]
     },
     "metadata": {
      "needs_background": "light"
     },
     "output_type": "display_data"
    }
   ],
   "source": [
    "fig, ax = plt.subplots()\n",
    "\n",
    "ax.plot(range(10000), cache)\n",
    "ax.plot(range(10000), no_cache);"
   ]
  },
  {
   "cell_type": "code",
   "execution_count": 20,
   "metadata": {},
   "outputs": [
    {
     "data": {
      "text/plain": [
       "30.8738"
      ]
     },
     "execution_count": 20,
     "metadata": {},
     "output_type": "execute_result"
    }
   ],
   "source": [
    "fib_call_count / 10000"
   ]
  },
  {
   "cell_type": "code",
   "execution_count": 21,
   "metadata": {},
   "outputs": [
    {
     "data": {
      "text/plain": [
       "1.0016"
      ]
     },
     "execution_count": 21,
     "metadata": {},
     "output_type": "execute_result"
    }
   ],
   "source": [
    "sum(fib.cache_info()[:2]) / 10000"
   ]
  },
  {
   "cell_type": "markdown",
   "metadata": {},
   "source": [
    "Now look what happens when we double the output range of our random number generator"
   ]
  },
  {
   "cell_type": "code",
   "execution_count": 22,
   "metadata": {},
   "outputs": [],
   "source": [
    "np.random.seed(0)\n",
    "ten_k_calls = np.random.randint(1, 21, size=10000)"
   ]
  },
  {
   "cell_type": "markdown",
   "metadata": {},
   "source": [
    "Then, comparing the relative operations between the cached and non-cached implementations, we have"
   ]
  },
  {
   "cell_type": "code",
   "execution_count": 23,
   "metadata": {},
   "outputs": [],
   "source": [
    "fib_call_count = 0\n",
    "fib.cache_clear()\n",
    "\n",
    "cache = []\n",
    "no_cache = []\n",
    "for call in ten_k_calls:\n",
    "    fib(call)\n",
    "    fib_no_cache(call)\n",
    "    \n",
    "    hits, misses = fib.cache_info()[:2]\n",
    "    cache.append(hits + misses)\n",
    "    no_cache.append(fib_call_count)"
   ]
  },
  {
   "cell_type": "markdown",
   "metadata": {},
   "source": [
    "Which leads to an enormous difference."
   ]
  },
  {
   "cell_type": "code",
   "execution_count": 24,
   "metadata": {},
   "outputs": [
    {
     "data": {
      "image/png": "[encoded data removed]",
      "text/plain": [
       "<Figure size 432x288 with 1 Axes>"
      ]
     },
     "metadata": {
      "needs_background": "light"
     },
     "output_type": "display_data"
    }
   ],
   "source": [
    "fig, ax = plt.subplots()\n",
    "\n",
    "ax.plot(range(10000), cache)\n",
    "ax.plot(range(10000), no_cache);"
   ]
  },
  {
   "cell_type": "code",
   "execution_count": 25,
   "metadata": {},
   "outputs": [
    {
     "data": {
      "text/plain": [
       "2825.3216"
      ]
     },
     "execution_count": 25,
     "metadata": {},
     "output_type": "execute_result"
    }
   ],
   "source": [
    "fib_call_count / 10000"
   ]
  },
  {
   "cell_type": "code",
   "execution_count": 26,
   "metadata": {},
   "outputs": [
    {
     "data": {
      "text/plain": [
       "1.0038"
      ]
     },
     "execution_count": 26,
     "metadata": {},
     "output_type": "execute_result"
    }
   ],
   "source": [
    "sum(fib.cache_info()[:2]) / 10000"
   ]
  },
  {
   "cell_type": "markdown",
   "metadata": {},
   "source": [
    "This tangent is probably more a lesson in algorithm complexity than anything. Hopefully though, it's also a lesson in how that complexity can be mitigated by good use of `@functools.lru_cache()`"
   ]
  }
 ],
 "metadata": {
  "kernelspec": {
   "display_name": "Python 3",
   "language": "python",
   "name": "python3"
  },
  "language_info": {
   "codemirror_mode": {
    "name": "ipython",
    "version": 3
   },
   "file_extension": ".py",
   "mimetype": "text/x-python",
   "name": "python",
   "nbconvert_exporter": "python",
   "pygments_lexer": "ipython3",
   "version": "3.7.6"
  }
 },
 "nbformat": 4,
 "nbformat_minor": 4
}
