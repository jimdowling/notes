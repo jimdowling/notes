{
 "cells": [
  {
   "cell_type": "raw",
   "metadata": {},
   "source": [
    "---\n",
    "title: \"Minimal CLI construction with Click\"\n",
    "date: 2020-06-10\n",
    "type: technical_note\n",
    "---"
   ]
  },
  {
   "cell_type": "markdown",
   "metadata": {},
   "source": [
    "[Click](https://click.palletsprojects.com/en/7.x/) is an excellent library that handles a lot of the minutate in setting up a robust Command-Line Interface.\n",
    "\n",
    "There's a TON of functionality built in, but I'm writing this notebook so I can remember how to set up straight-forward implementations, such as the one found in my library [kneejerk](https://napsterinblue.github.io/kneejerk/)"
   ]
  },
  {
   "cell_type": "code",
   "execution_count": 1,
   "metadata": {},
   "outputs": [
    {
     "data": {
      "image/png": "[encoded data removed]",
      "text/plain": [
       "<IPython.core.display.Image object>"
      ]
     },
     "execution_count": 1,
     "metadata": {},
     "output_type": "execute_result"
    }
   ],
   "source": [
    "from IPython.display import Image\n",
    "Image('./images/kneejerk.PNG')"
   ]
  },
  {
   "cell_type": "markdown",
   "metadata": {},
   "source": [
    "### A Minimal Example"
   ]
  },
  {
   "cell_type": "markdown",
   "metadata": {},
   "source": [
    "I whipped up a small script that provides an interace to either:\n",
    "\n",
    "- Convert an ASCII number to its corresponding character\n",
    "- Convert a character to its corresponding ASCII number\n",
    "\n",
    "Here it is in its entirety"
   ]
  },
  {
   "cell_type": "code",
   "execution_count": 2,
   "metadata": {},
   "outputs": [
    {
     "name": "stdout",
     "output_type": "stream",
     "text": [
      "import click\n",
      "\n",
      "\n",
      "@click.group()\n",
      "def main():\n",
      "    pass\n",
      "\n",
      "@main.command(help='Take a letter and print its corresponding ascii number')\n",
      "@click.argument('letter')\n",
      "def l2n(letter):\n",
      "    print(ord(letter))\n",
      "\n",
      "@main.command(help='Take an ascii number and print its corresponding letter')\n",
      "@click.option('--upper', '-u', help='Print upper-case letter', default=False)\n",
      "@click.argument('number')\n",
      "def n2l(number, upper):\n",
      "    number = int(number)\n",
      "    if upper:\n",
      "        print(chr(number).upper())\n",
      "    else:\n",
      "        print(chr(number).lower())\n",
      "\n",
      "\n",
      "if __name__ == '__main__':\n",
      "    main()\n"
     ]
    }
   ],
   "source": [
    "!cat dumb_cli.py"
   ]
  },
  {
   "cell_type": "markdown",
   "metadata": {},
   "source": [
    "### Multiple Commands\n",
    "\n",
    "Because we have two functions, we want to have two top-level commands: `l2n` and `n2l`.\n",
    "\n",
    "This is achieved by using the `@click.group()` decorator on top of a throwaway function, `main()`, which creates a *new* dectorator.\n",
    "\n",
    "We use the `@main.command()` decorator on top of our `l2n()` and `n2l()` functions."
   ]
  },
  {
   "cell_type": "code",
   "execution_count": 3,
   "metadata": {},
   "outputs": [
    {
     "name": "stdout",
     "output_type": "stream",
     "text": [
      "Usage: dumb_cli.py [OPTIONS] COMMAND [ARGS]...\n",
      "\n",
      "Options:\n",
      "  --help  Show this message and exit.\n",
      "\n",
      "Commands:\n",
      "  l2n  Take a letter and print its corresponding ascii number\n",
      "  n2l  Take an ascii number and print its corresponding letter\n"
     ]
    }
   ],
   "source": [
    "!python dumb_cli.py"
   ]
  },
  {
   "cell_type": "markdown",
   "metadata": {},
   "source": [
    "### Customizing Each Command\n",
    "\n",
    "Notice that in the `@main.command()` call, we provide a `help=` argument, which gives us the nice printout.\n",
    "\n",
    "From here, we supply the command line options and arguments for each command. Few things to point out:\n",
    "\n",
    "* We can provide both the long-form `--` and short-form `-` flags\n",
    "* We can set default values\n",
    "* We can put help statements for each option"
   ]
  },
  {
   "cell_type": "code",
   "execution_count": 4,
   "metadata": {},
   "outputs": [
    {
     "name": "stdout",
     "output_type": "stream",
     "text": [
      "Usage: dumb_cli.py n2l [OPTIONS] NUMBER\n",
      "\n",
      "  Take an ascii number and print its corresponding letter\n",
      "\n",
      "Options:\n",
      "  -u, --upper TEXT  Print upper-case letter\n",
      "  --help            Show this message and exit.\n"
     ]
    }
   ],
   "source": [
    "!python dumb_cli.py n2l --help"
   ]
  },
  {
   "cell_type": "markdown",
   "metadata": {},
   "source": [
    "### Decorator Organization\n",
    "\n",
    "Finally, one last note on the execution order. Copy/pasting the decorator and defnition of `n2l()`:\n",
    "\n",
    "```\n",
    "@main.command(help='Take an ascii number and print its corresponding letter')\n",
    "@click.option('--upper', '-u', help='Print upper-case letter', default=False)\n",
    "@click.argument('number')\n",
    "def n2l(number, upper):\n",
    "```\n",
    "\n",
    "The decorators execute *from the bottom up*, supplying function arguments *from left to right*. Be very careful that these align!"
   ]
  }
 ],
 "metadata": {
  "kernelspec": {
   "display_name": "Python 3",
   "language": "python",
   "name": "python3"
  },
  "language_info": {
   "codemirror_mode": {
    "name": "ipython",
    "version": 3
   },
   "file_extension": ".py",
   "mimetype": "text/x-python",
   "name": "python",
   "nbconvert_exporter": "python",
   "pygments_lexer": "ipython3",
   "version": "3.7.6"
  }
 },
 "nbformat": 4,
 "nbformat_minor": 4
}
